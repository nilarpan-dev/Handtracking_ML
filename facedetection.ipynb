{
 "cells": [
  {
   "cell_type": "code",
   "execution_count": 5,
   "id": "dabc81bd-771d-4c6e-a560-010a4d5a6315",
   "metadata": {},
   "outputs": [],
   "source": [
    "import cv2 as cv\n",
    "import face_recognition\n",
    "import numpy as np"
   ]
  },
  {
   "cell_type": "code",
   "execution_count": null,
   "id": "00d125be-5d83-40fc-9570-5361236f0490",
   "metadata": {},
   "outputs": [],
   "source": [
    "video_cap=cv.VideoCapture(1)\n",
    "while True:\n",
    "    ret, frame=video_cap.read()\n",
    "    cv.imshow(\"video_live\",frame)\n",
    "    if cv.waitKey(10)==ord(\"a\"):\n",
    "        break\n",
    "video_cap.release()"
   ]
  },
  {
   "cell_type": "code",
   "execution_count": null,
   "id": "03f9d7c9-4cb4-4d5f-9247-e8d70c79a3e8",
   "metadata": {},
   "outputs": [],
   "source": []
  }
 ],
 "metadata": {
  "kernelspec": {
   "display_name": "Python 3 (ipykernel)",
   "language": "python",
   "name": "python3"
  },
  "language_info": {
   "codemirror_mode": {
    "name": "ipython",
    "version": 3
   },
   "file_extension": ".py",
   "mimetype": "text/x-python",
   "name": "python",
   "nbconvert_exporter": "python",
   "pygments_lexer": "ipython3",
   "version": "3.9.10"
  }
 },
 "nbformat": 4,
 "nbformat_minor": 5
}
