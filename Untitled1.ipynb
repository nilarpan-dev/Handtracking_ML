{
 "cells": [
  {
   "cell_type": "code",
   "execution_count": 1,
   "id": "c69f75d3-22ea-4bfe-bf67-2f9546d8bca6",
   "metadata": {},
   "outputs": [
    {
     "name": "stdout",
     "output_type": "stream",
     "text": [
      "pygame 2.6.1 (SDL 2.28.4, Python 3.9.10)\n",
      "Hello from the pygame community. https://www.pygame.org/contribute.html\n"
     ]
    },
    {
     "ename": "FileNotFoundError",
     "evalue": "No file 'C_major.wav' found in working directory 'C:\\Users\\guhan\\Desktop\\Python Projects'.",
     "output_type": "error",
     "traceback": [
      "\u001b[1;31m---------------------------------------------------------------------------\u001b[0m",
      "\u001b[1;31mFileNotFoundError\u001b[0m                         Traceback (most recent call last)",
      "Cell \u001b[1;32mIn[1], line 21\u001b[0m\n\u001b[0;32m     18\u001b[0m     \u001b[38;5;28;01mfor\u001b[39;00m chord, file \u001b[38;5;129;01min\u001b[39;00m chords\u001b[38;5;241m.\u001b[39mitems():\n\u001b[0;32m     19\u001b[0m         chords[chord] \u001b[38;5;241m=\u001b[39m pygame\u001b[38;5;241m.\u001b[39mmixer\u001b[38;5;241m.\u001b[39mSound(file)\n\u001b[1;32m---> 21\u001b[0m \u001b[43mload_chords\u001b[49m\u001b[43m(\u001b[49m\u001b[43m)\u001b[49m\n\u001b[0;32m     23\u001b[0m \u001b[38;5;66;03m# Initialize MediaPipe Hands for hand gesture detection\u001b[39;00m\n\u001b[0;32m     24\u001b[0m mp_hands \u001b[38;5;241m=\u001b[39m mp\u001b[38;5;241m.\u001b[39msolutions\u001b[38;5;241m.\u001b[39mhands\n",
      "Cell \u001b[1;32mIn[1], line 19\u001b[0m, in \u001b[0;36mload_chords\u001b[1;34m()\u001b[0m\n\u001b[0;32m     17\u001b[0m \u001b[38;5;28;01mdef\u001b[39;00m \u001b[38;5;21mload_chords\u001b[39m():\n\u001b[0;32m     18\u001b[0m     \u001b[38;5;28;01mfor\u001b[39;00m chord, file \u001b[38;5;129;01min\u001b[39;00m chords\u001b[38;5;241m.\u001b[39mitems():\n\u001b[1;32m---> 19\u001b[0m         chords[chord] \u001b[38;5;241m=\u001b[39m \u001b[43mpygame\u001b[49m\u001b[38;5;241;43m.\u001b[39;49m\u001b[43mmixer\u001b[49m\u001b[38;5;241;43m.\u001b[39;49m\u001b[43mSound\u001b[49m\u001b[43m(\u001b[49m\u001b[43mfile\u001b[49m\u001b[43m)\u001b[49m\n",
      "\u001b[1;31mFileNotFoundError\u001b[0m: No file 'C_major.wav' found in working directory 'C:\\Users\\guhan\\Desktop\\Python Projects'."
     ]
    }
   ],
   "source": [
    "import cv2\n",
    "import mediapipe as mp\n",
    "import pygame\n",
    "\n",
    "# Initialize pygame for sound playback\n",
    "pygame.mixer.init()\n",
    "\n",
    "# Mapping of finger gestures to guitar chords\n",
    "# You can extend this with more complex mappings based on finger positions.\n",
    "chords = {\n",
    "    \"1\": \"C_major.wav\",   # For example, one finger raised will play C Major\n",
    "    \"2\": \"G_major.wav\",   # Two fingers raised will play G Major\n",
    "    \"3\": \"D_major.wav\",   # Three fingers raised will play D Major\n",
    "}\n",
    "\n",
    "# Load the sounds (Make sure the WAV files exist in the same directory)\n",
    "def load_chords():\n",
    "    for chord, file in chords.items():\n",
    "        chords[chord] = pygame.mixer.Sound(file)\n",
    "\n",
    "load_chords()\n",
    "\n",
    "# Initialize MediaPipe Hands for hand gesture detection\n",
    "mp_hands = mp.solutions.hands\n",
    "hands = mp_hands.Hands()\n",
    "\n",
    "# Initialize OpenCV for capturing video\n",
    "cap = cv2.VideoCapture(0)\n",
    "\n",
    "while True:\n",
    "    ret, frame = cap.read()\n",
    "    if not ret:\n",
    "        print(\"Failed to capture frame\")\n",
    "        break\n",
    "\n",
    "    # Convert the frame to RGB (MediaPipe uses RGB, not BGR)\n",
    "    rgb_frame = cv2.cvtColor(frame, cv2.COLOR_BGR2RGB)\n",
    "    result = hands.process(rgb_frame)\n",
    "\n",
    "    # If hands are detected, analyze the landmarks\n",
    "    if result.multi_hand_landmarks:\n",
    "        for hand_landmarks in result.multi_hand_landmarks:\n",
    "            # Extract finger tips (indices) for gesture recognition\n",
    "            finger_tips = [hand_landmarks.landmark[i] for i in [8, 12, 16, 20]]  # Index, middle, ring, pinky fingers\n",
    "\n",
    "            # Check how many fingers are raised by comparing y-coordinate values\n",
    "            raised_fingers = 0\n",
    "            for tip in finger_tips:\n",
    "                if tip.y < hand_landmarks.landmark[0].y:  # Compare to wrist position\n",
    "                    raised_fingers += 1\n",
    "\n",
    "            # Map the number of raised fingers to a chord and play the sound\n",
    "            raised_fingers = str(raised_fingers)\n",
    "            if raised_fingers in chords:\n",
    "                print(f\"Playing {chords[raised_fingers]} chord\")\n",
    "                chords[raised_fingers].play()\n",
    "\n",
    "    # Display the captured frame with landmarks\n",
    "    cv2.imshow(\"Hand Gesture Recognition\", frame)\n",
    "\n",
    "    # Press 'q' to quit the loop\n",
    "    if cv2.waitKey(1) & 0xFF == ord('q'):\n",
    "        break\n",
    "\n",
    "# Release the video capture and close the window\n",
    "cap.release()\n",
    "cv2.destroyAllWindows()\n"
   ]
  }
 ],
 "metadata": {
  "kernelspec": {
   "display_name": "Python 3 (ipykernel)",
   "language": "python",
   "name": "python3"
  },
  "language_info": {
   "codemirror_mode": {
    "name": "ipython",
    "version": 3
   },
   "file_extension": ".py",
   "mimetype": "text/x-python",
   "name": "python",
   "nbconvert_exporter": "python",
   "pygments_lexer": "ipython3",
   "version": "3.9.10"
  }
 },
 "nbformat": 4,
 "nbformat_minor": 5
}
